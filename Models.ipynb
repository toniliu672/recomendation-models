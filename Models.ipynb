{
  "nbformat": 4,
  "nbformat_minor": 0,
  "metadata": {
    "colab": {
      "provenance": []
    },
    "kernelspec": {
      "name": "python3",
      "display_name": "Python 3"
    },
    "language_info": {
      "name": "python"
    }
  },
  "cells": [
    {
      "cell_type": "code",
      "execution_count": 6,
      "metadata": {
        "colab": {
          "base_uri": "https://localhost:8080/"
        },
        "id": "A0_mBzhoCGp_",
        "outputId": "220390f4-9b30-4334-aece-abcfade6f0bb"
      },
      "outputs": [
        {
          "output_type": "stream",
          "name": "stderr",
          "text": [
            "WARNING:tensorflow:5 out of the last 7 calls to <function Model.make_predict_function.<locals>.predict_function at 0x7b286450d2d0> triggered tf.function retracing. Tracing is expensive and the excessive number of tracings could be due to (1) creating @tf.function repeatedly in a loop, (2) passing tensors with different shapes, (3) passing Python objects instead of tensors. For (1), please define your @tf.function outside of the loop. For (2), @tf.function has reduce_retracing=True option that can avoid unnecessary retracing. For (3), please refer to https://www.tensorflow.org/guide/function#controlling_retracing and https://www.tensorflow.org/api_docs/python/tf/function for  more details.\n"
          ]
        },
        {
          "output_type": "stream",
          "name": "stdout",
          "text": [
            "1/1 [==============================] - 0s 64ms/step\n",
            "Rekomendasi Jurusan: ['Prodi Teknik Sipil']\n",
            "1/1 [==============================] - 0s 22ms/step\n",
            "Rekomendasi jurusan adalah \"Prodi Teknik Sipil\" dengan keyakinan 69.91%.\n",
            "Rincian keyakinan model untuk setiap jurusan:\n",
            "- Jurusan Pendidikan Teknologi Informasi dan Komunikasi: 0.0%\n",
            "- Prodi Teknik Informatika: 0.0%\n",
            "- Prodi Teknik Sipil: 69.91%\n",
            "- Prodi Arsitektur: 0.0%\n",
            "- Jurusan Pendidikan Teknik Mesin: 30.09%\n",
            "- Jurusan Pendidikan Teknik Elektro: 0.0%\n",
            "\n"
          ]
        }
      ],
      "source": [
        "import tensorflow as tf\n",
        "from tensorflow.keras.models import Sequential\n",
        "from tensorflow.keras.layers import Dense\n",
        "import json\n",
        "import numpy as np\n",
        "\n",
        "# Memuat dataset\n",
        "# Pastikan Anda telah meload dataset training dan validasi Anda\n",
        "\n",
        "# Model building\n",
        "model = Sequential([\n",
        "    Dense(64, activation='relu', input_shape=(6,)),\n",
        "    Dense(64, activation='relu'),\n",
        "    Dense(6, activation='softmax')  # Output layer sesuai dengan jumlah jurusan\n",
        "])\n",
        "\n",
        "model.compile(optimizer='adam', loss='categorical_crossentropy', metrics=['accuracy'])\n",
        "\n",
        "# Training Model\n",
        "# Pastikan Anda telah melatih model dengan dataset yang Anda miliki\n",
        "\n",
        "# Daftar jurusan yang telah disesuaikan\n",
        "jurusan_names = [\n",
        "    \"Jurusan Pendidikan Teknologi Informasi dan Komunikasi\",\n",
        "    \"Prodi Teknik Informatika\",\n",
        "    \"Prodi Teknik Sipil\",\n",
        "    \"Prodi Arsitektur\",\n",
        "    \"Jurusan Pendidikan Teknik Mesin\",\n",
        "    \"Jurusan Pendidikan Teknik Elektro\"\n",
        "]\n",
        "\n",
        "# Fungsi untuk memberi rekomendasi jurusan berdasarkan prediksi model\n",
        "def recommend_major(features):\n",
        "    # Lakukan prediksi menggunakan model\n",
        "    predicted_probs = model.predict(features)\n",
        "    # Mengambil indeks dengan nilai probabilitas tertinggi sebagai prediksi\n",
        "    predicted_index = np.argmax(predicted_probs, axis=1)\n",
        "    # Mengonversi indeks menjadi nama jurusan\n",
        "    recommended_jurusan = [jurusan_names[index] for index in predicted_index]\n",
        "    return recommended_jurusan\n",
        "\n",
        "# Contoh penggunaan fungsi recommend_major\n",
        "# Contoh nilai fitur untuk melakukan prediksi\n",
        "test_features = np.array([[44, 45, 98, 97, 2, 4]]) # Angka di sini hanyalah contoh, silakan sesuaikan dengan format fitur Anda\n",
        "test_features = tf.convert_to_tensor(test_features) # Mengonversi array ke tensor\n",
        "\n",
        "# Memanggil fungsi rekomendasi dan mencetak rekomendasi\n",
        "recommendations = recommend_major(test_features)\n",
        "print(\"Rekomendasi Jurusan:\", recommendations)\n",
        "def recommend_major_with_reasoning(features):\n",
        "    # Lakukan prediksi menggunakan model\n",
        "    predicted_probs = model.predict(features)[0]  # Model.predict mengembalikan list dari array, ambil yang pertama\n",
        "\n",
        "    # Mendapatkan indeks jurusan dengan probabilitas tertinggi\n",
        "    predicted_index = np.argmax(predicted_probs)\n",
        "\n",
        "    # Mendapatkan probabilitas untuk semua jurusan\n",
        "    prob_per_major = {jurusan: round(predicted_probs[idx] * 100, 2) for idx, jurusan in enumerate(jurusan_names)}\n",
        "\n",
        "    # Menyiapkan penjelasan\n",
        "    explanation = f'Rekomendasi jurusan adalah \"{jurusan_names[predicted_index]}\" dengan keyakinan {predicted_probs[predicted_index] * 100:.2f}%.\\n'\n",
        "    explanation += \"Rincian keyakinan model untuk setiap jurusan:\\n\"\n",
        "    for jurusan, prob in prob_per_major.items():\n",
        "        explanation += f\"- {jurusan}: {prob}%\\n\"\n",
        "\n",
        "    return jurusan_names[predicted_index], explanation\n",
        "\n",
        "# Contoh penggunaan fungsi\n",
        "# Gunakan nilai fitur yang sama dengan sebelumnya\n",
        "predictions, explanation = recommend_major_with_reasoning(test_features)\n",
        "print(explanation)\n",
        "\n"
      ]
    },
    {
      "cell_type": "code",
      "source": [
        "# Simpan model\n",
        "model.save('rekomendasi_jurusan_model.h5')\n",
        "\n",
        "# Untuk memuat model\n",
        "# model = tf.keras.models.load_model('rekomendasi_jurusan_model.h5')"
      ],
      "metadata": {
        "colab": {
          "base_uri": "https://localhost:8080/"
        },
        "id": "1ebIk08MaLMc",
        "outputId": "7d013e9f-b5ea-4946-a90b-d99eca66073e"
      },
      "execution_count": 7,
      "outputs": [
        {
          "output_type": "stream",
          "name": "stderr",
          "text": [
            "/usr/local/lib/python3.10/dist-packages/keras/src/engine/training.py:3103: UserWarning: You are saving your model as an HDF5 file via `model.save()`. This file format is considered legacy. We recommend using instead the native Keras format, e.g. `model.save('my_model.keras')`.\n",
            "  saving_api.save_model(\n"
          ]
        }
      ]
    },
    {
      "cell_type": "code",
      "source": [
        "def recommend_major_with_reasoning(features):\n",
        "    # Lakukan prediksi menggunakan model\n",
        "    predicted_probs = model.predict(features)[0]  # Model.predict mengembalikan list dari array, ambil yang pertama\n",
        "\n",
        "    # Mendapatkan indeks jurusan dengan probabilitas tertinggi\n",
        "    predicted_index = np.argmax(predicted_probs)\n",
        "\n",
        "    # Mendapatkan probabilitas untuk semua jurusan\n",
        "    prob_per_major = {jurusan: round(predicted_probs[idx] * 100, 2) for idx, jurusan in enumerate(jurusan_names)}\n",
        "\n",
        "    # Menyiapkan penjelasan\n",
        "    explanation = f'Rekomendasi jurusan adalah \"{jurusan_names[predicted_index]}\" dengan keyakinan {predicted_probs[predicted_index] * 100:.2f}%.\\n'\n",
        "    explanation += \"Rincian keyakinan model untuk setiap jurusan:\\n\"\n",
        "    for jurusan, prob in prob_per_major.items():\n",
        "        explanation += f\"- {jurusan}: {prob}%\\n\"\n",
        "\n",
        "    return jurusan_names[predicted_index], explanation\n",
        "\n",
        "# Contoh penggunaan fungsi\n",
        "# Gunakan nilai fitur yang sama dengan sebelumnya\n",
        "predictions, explanation = recommend_major_with_reasoning(test_features)\n",
        "print(explanation)"
      ],
      "metadata": {
        "colab": {
          "base_uri": "https://localhost:8080/"
        },
        "id": "Rj3PhYT0aBKa",
        "outputId": "00e61364-09c3-4537-b0e1-ea0195b425a2"
      },
      "execution_count": 4,
      "outputs": [
        {
          "output_type": "stream",
          "name": "stdout",
          "text": [
            "1/1 [==============================] - 0s 25ms/step\n",
            "Rekomendasi jurusan adalah \"Jurusan Pendidikan Teknologi Informasi dan Komunikasi\" dengan keyakinan 100.00%.\n",
            "Rincian keyakinan model untuk setiap jurusan:\n",
            "- Jurusan Pendidikan Teknologi Informasi dan Komunikasi: 100.0%\n",
            "- Prodi Teknik Informatika: 0.0%\n",
            "- Prodi Teknik Sipil: 0.0%\n",
            "- Prodi Arsitektur: 0.0%\n",
            "- Jurusan Pendidikan Teknik Mesin: 0.0%\n",
            "- Jurusan Pendidikan Teknik Elektro: 0.0%\n",
            "\n"
          ]
        }
      ]
    }
  ]
}